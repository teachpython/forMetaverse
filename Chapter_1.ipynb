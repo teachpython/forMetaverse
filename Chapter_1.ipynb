{
  "nbformat": 4,
  "nbformat_minor": 0,
  "metadata": {
    "colab": {
      "provenance": [],
      "authorship_tag": "ABX9TyMpfvkW6IDJpB1NsxuTEP2y",
      "include_colab_link": true
    },
    "kernelspec": {
      "name": "python3",
      "display_name": "Python 3"
    },
    "language_info": {
      "name": "python"
    }
  },
  "cells": [
    {
      "cell_type": "markdown",
      "metadata": {
        "id": "view-in-github",
        "colab_type": "text"
      },
      "source": [
        "<a href=\"https://colab.research.google.com/github/teachpython/forMetaverse/blob/main/Chapter_1.ipynb\" target=\"_parent\"><img src=\"https://colab.research.google.com/assets/colab-badge.svg\" alt=\"Open In Colab\"/></a>"
      ]
    },
    {
      "cell_type": "markdown",
      "source": [
        "**Chapter 1** Exercises comprises of programs for getting introdiced to python programming. There are 5 simple exercises."
      ],
      "metadata": {
        "id": "MseNa-TG5hHH"
      }
    },
    {
      "cell_type": "markdown",
      "source": [
        "**Exercise 1**: : **Print Strings**\n",
        "\n",
        "Write a Python program to print the following string in a specific format.\n",
        "\n",
        "Twinkle, twinkle, little star, How I wonder what you are! Up above the world so high, Like a diamond in the sky. Twinkle, twinkle, little star, How I wonder what you are\n"
      ],
      "metadata": {
        "id": "F7J-tUYy5867"
      }
    },
    {
      "cell_type": "code",
      "source": [
        "line1='Jhony Jhony, \"Yes Papa!\"' #1st line of an english rhyme\n",
        "line2='Eating sugar? \"No Papa!\"' #2nd line of an english rhyme\n",
        "line3='Telling lie? \"No Papa!\"' #3rd line of an english rhyme\n",
        "line4='open your mouth! \"Ha ha ha!\"' #4th line of an english rhyme\n",
        "# Print as complete rhyme with each sentences in separate lines\n",
        "print(line1)\n",
        "print(line2)\n",
        "print(line3)\n",
        "print(line4)\n",
        "#print the rhyme as paragraph\n",
        "line5='Jhony Jhony, \"Yes Papa!\" Eating sugar? \"No Papa!\" Telling lie? \"No Papa!\" open your mouth! \"Ha ha ha!\"'\n",
        "print(line5)"
      ],
      "metadata": {
        "colab": {
          "base_uri": "https://localhost:8080/"
        },
        "id": "ETCXxtV95zNa",
        "outputId": "96caa04c-ca9f-415d-b3f7-476368fbdc1f"
      },
      "execution_count": 3,
      "outputs": [
        {
          "output_type": "stream",
          "name": "stdout",
          "text": [
            "Jhony Jhony, \"Yes Papa!\"\n",
            "Eating sugar? \"No Papa!\"\n",
            "Telling lie? \"No Papa!\"\n",
            "open your mouth! \"Ha ha ha!\"\n",
            "Jhony Jhony, \"Yes Papa!\" Eating sugar? \"No Papa!\" Telling lie? \"No Papa!\" open your mouth! \"Ha ha ha!\"\n"
          ]
        }
      ]
    },
    {
      "cell_type": "markdown",
      "source": [
        "**Exercise 2: Print the Version of Python**\n",
        "\n",
        "Write a Python program to get the Python version you are using."
      ],
      "metadata": {
        "id": "G1rFoPrY99A1"
      }
    },
    {
      "cell_type": "code",
      "source": [
        "import sys #importing library function which store the version of python\n",
        "print('Pyton version:')\n",
        "print(sys.version)\n",
        "print('Pyton version detailed information:')\n",
        "print(sys.version_info)"
      ],
      "metadata": {
        "colab": {
          "base_uri": "https://localhost:8080/"
        },
        "id": "wZjAwgwr-F1T",
        "outputId": "63cacd6a-84bb-4a34-a12b-90312444885f"
      },
      "execution_count": 10,
      "outputs": [
        {
          "output_type": "stream",
          "name": "stdout",
          "text": [
            "Pyton version:\n",
            "3.7.15 (default, Oct 12 2022, 19:14:55) \n",
            "[GCC 7.5.0]\n",
            "Pyton version detailed information:\n",
            "sys.version_info(major=3, minor=7, micro=15, releaselevel='final', serial=0)\n"
          ]
        }
      ]
    },
    {
      "cell_type": "markdown",
      "source": [
        "**Exercise 3: Print date and Time**\n",
        "\n",
        "Write a Python program to display the current date and time."
      ],
      "metadata": {
        "id": "OUPp6xWTA4I2"
      }
    },
    {
      "cell_type": "code",
      "source": [
        "from datetime import datetime\n",
        "# datetime object containing current date and time\n",
        "now = datetime.now()\n",
        " \n",
        "print(\"now =\", now)\n",
        "\n",
        "# dd/mm/YY H:M:S\n",
        "dt_string = now.strftime(\"%d/%m/%Y %H:%M:%S\")\n",
        "print(\"date and time =\", dt_string)\t"
      ],
      "metadata": {
        "colab": {
          "base_uri": "https://localhost:8080/"
        },
        "id": "PFLx2Gwt-IDl",
        "outputId": "a51d9592-6400-4321-ff4c-a081e70cfc5e"
      },
      "execution_count": 5,
      "outputs": [
        {
          "output_type": "stream",
          "name": "stdout",
          "text": [
            "now = 2022-10-19 06:49:42.700863\n",
            "date and time = 19/10/2022 06:49:42\n"
          ]
        }
      ]
    },
    {
      "cell_type": "markdown",
      "source": [
        "**Exercise 4: Strings Concatination** \n",
        "\n",
        "Write three strings in different variables and print the output as one string. "
      ],
      "metadata": {
        "id": "-jd1LkDQImtH"
      }
    },
    {
      "cell_type": "code",
      "source": [
        "line1='Jhony Jhony, \"Yes Papa!\" ' #1st line of an english rhyme\n",
        "line2='Eating sugar? \"No Papa!\" ' #2nd line of an english rhyme\n",
        "line3='Telling lie? \"No Papa!\" ' #3rd line of an english rhyme\n",
        "line4='open your mouth! \"Ha ha ha!\"' #4th line of an english rhyme\n",
        "#string concatinition\n",
        "print(line1,line2,line3,line4)\n",
        "print(line1+line2+line3+line4)"
      ],
      "metadata": {
        "colab": {
          "base_uri": "https://localhost:8080/"
        },
        "id": "M571mo8VInb3",
        "outputId": "3e057ce1-671e-4ca1-c675-6d7f072040a6"
      },
      "execution_count": 10,
      "outputs": [
        {
          "output_type": "stream",
          "name": "stdout",
          "text": [
            "Jhony Jhony, \"Yes Papa!\"  Eating sugar? \"No Papa!\"  Telling lie? \"No Papa!\"  open your mouth! \"Ha ha ha!\"\n",
            "Jhony Jhony, \"Yes Papa!\" Eating sugar? \"No Papa!\" Telling lie? \"No Papa!\" open your mouth! \"Ha ha ha!\"\n"
          ]
        }
      ]
    },
    {
      "cell_type": "markdown",
      "source": [
        "**Exercise 5: Compute area of Circle** \n",
        "\n",
        "Write a Python program which accepts the radius of a circle from the user and compute the area."
      ],
      "metadata": {
        "id": "yGW8jGGQJmkf"
      }
    },
    {
      "cell_type": "code",
      "source": [
        "print('Enter the radius of the circle:') #ask the value of radius from the user\n",
        "r=float(input()) #accept the value of radius from the user and store it as float variable named 'r'\n",
        "pi=3.142 #constant\n",
        "a=pi*(r**2)#calculate the area and store it in avariable named 'a'\n",
        "print('The area of circle with radius '+str(r)+' units, is '+str(a)+' sq units.') #print output"
      ],
      "metadata": {
        "colab": {
          "base_uri": "https://localhost:8080/"
        },
        "id": "6slJmbzFJrdO",
        "outputId": "5b66d614-191e-4a87-8eda-6658605484dc"
      },
      "execution_count": 16,
      "outputs": [
        {
          "output_type": "stream",
          "name": "stdout",
          "text": [
            "Enter the radius of the circle:\n",
            "12\n",
            "The area of circle with radius 12.0 units, is 452.448 sq units.\n"
          ]
        }
      ]
    }
  ]
}