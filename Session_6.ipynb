{
  "nbformat": 4,
  "nbformat_minor": 0,
  "metadata": {
    "colab": {
      "provenance": [],
      "authorship_tag": "ABX9TyPil7i8ySmWCf1GnlQO2yir",
      "include_colab_link": true
    },
    "kernelspec": {
      "name": "python3",
      "display_name": "Python 3"
    },
    "language_info": {
      "name": "python"
    }
  },
  "cells": [
    {
      "cell_type": "markdown",
      "metadata": {
        "id": "view-in-github",
        "colab_type": "text"
      },
      "source": [
        "<a href=\"https://colab.research.google.com/github/teachpython/forMetaverse/blob/main/Session_6.ipynb\" target=\"_parent\"><img src=\"https://colab.research.google.com/assets/colab-badge.svg\" alt=\"Open In Colab\"/></a>"
      ]
    },
    {
      "cell_type": "markdown",
      "source": [
        "write a program to two numbers from user and perporm following mathematical operations and print the results \n",
        "1.addition\n",
        "2. subtraction\n",
        "3. multiplication\n",
        "4. division\n",
        "5. modulus\n",
        "6. power\n",
        "\n"
      ],
      "metadata": {
        "id": "ELCLvj2qXyxk"
      }
    },
    {
      "cell_type": "code",
      "source": [
        "\n",
        "#get 2 numbers from the user\n",
        "print('Enter 2 numbers: ')\n",
        "a=int(input())\n",
        "b=int(input())\n",
        "\n",
        "# calculate and print the results\n",
        "print('The addition of '+str(a)+' and '+str(b)+' is '+str(a+b))\n",
        "print('The subtraction of '+str(a)+' and '+str(b)+' is '+str(a-b))\n",
        "print('The multiplication of '+str(a)+' and '+str(b)+' is '+str(a*b))\n",
        "print('The division of '+str(a)+' and '+str(b)+' is '+str(a/b))\n",
        "print('The modulus of '+str(a)+' and '+str(b)+' is '+str(a%b))\n",
        "print('The power of '+str(a)+' to '+str(b)+' is '+str(a**b))\n"
      ],
      "metadata": {
        "colab": {
          "base_uri": "https://localhost:8080/",
          "height": 0
        },
        "id": "Ujn-m4xNZEYk",
        "outputId": "bddc2683-09a4-4d1b-d43d-4b80547c320a"
      },
      "execution_count": 12,
      "outputs": [
        {
          "output_type": "stream",
          "name": "stdout",
          "text": [
            "Enter 2 numbers: \n",
            "8\n",
            "2\n",
            "The addition of 8 and 2 is 10\n",
            "The subtraction of 8 and 2 is 6\n",
            "The multiplication of 8 and 2 is 16\n",
            "The division of 8 and 2 is 4.0\n",
            "The modulus of 8 and 2 is 0\n",
            "The power of 8 to 2 is 64\n"
          ]
        }
      ]
    },
    {
      "cell_type": "markdown",
      "source": [
        "A girl heads to a computer shop to buy some USB sticks. She loves USB sticks and wants as many as she can get for £50. They are £6 each. Write a programme that calculates how many USB sticks she can buy and how many pounds she will have left. You will to use the arithmetic operators to complete this exercise. Use comments "
      ],
      "metadata": {
        "id": "hFKuPxatdpfD"
      }
    },
    {
      "cell_type": "code",
      "source": [
        "#Conversation between Shopkeeper and the girl\n",
        "print('A girl goes to a shop to buy USB\\nGirl:what is the price of an USB?\\nShopkeeper:$6\\nGirl:Please give me USB sticks for $50')\n",
        "No_of_USB=50//6\n",
        "money_back=50%6\n",
        "print('The shopkeeper gives the girl '+str(No_of_USB)+' USBs'+' and returns her '+str(money_back)+'$')\n",
        "print('The shopkeeper gives the girl '+str(50//6)+' USBs'+' and returns her '+str(50%6)+'$')"
      ],
      "metadata": {
        "colab": {
          "base_uri": "https://localhost:8080/"
        },
        "id": "qd25OdXndrk_",
        "outputId": "f12b59ad-e7f4-46fc-a0be-3de6c75c3318"
      },
      "execution_count": 22,
      "outputs": [
        {
          "output_type": "stream",
          "name": "stdout",
          "text": [
            "A girl goes to a shop to buy USB\n",
            "Girl:what is the price of an USB?\n",
            "Shopkeeper:$6\n",
            "Girl:Please give me USB sticks for $50\n",
            "The shopkeeper gives the girl 8 USBs and returns her 2$\n",
            "The shopkeeper gives the girl 8 USBs and returns her 2$\n"
          ]
        }
      ]
    },
    {
      "cell_type": "markdown",
      "source": [
        "Write a program declaring two numbers a and b. copy the value of a in another varable named min if a is smaller, else copy b. Print min"
      ],
      "metadata": {
        "id": "DhQg5PibxZDb"
      }
    },
    {
      "cell_type": "code",
      "source": [
        "#Declare two numbers in two variables\n",
        "a, b = 10, 20 \n",
        "# Copy value of a in min if a < b else copy b \n",
        "min=a \n",
        "if a<b:\n",
        " min=a\n",
        "else:\n",
        " min=b\n",
        "print('The minimum value is '+str(min))\n",
        "  \n",
        " \n"
      ],
      "metadata": {
        "colab": {
          "base_uri": "https://localhost:8080/"
        },
        "id": "z_LYm1AWvI76",
        "outputId": "4ec3dbae-da54-4386-ac5e-f5e685df11eb"
      },
      "execution_count": 36,
      "outputs": [
        {
          "output_type": "stream",
          "name": "stdout",
          "text": [
            "The minimum value is 10\n"
          ]
        }
      ]
    },
    {
      "cell_type": "markdown",
      "source": [
        "Write a program to declare two variables named a and b and a list of numbers. prif if a and b are in list or not in list"
      ],
      "metadata": {
        "id": "HEpOddNd-83F"
      }
    },
    {
      "cell_type": "code",
      "source": [
        "# Declare two variables named a and b and a list of numbers \n",
        "a = 24 \n",
        "b = 20 \n",
        "list = [10, 20, 30, 40, 50] \n",
        "  \n",
        "if (a not in list): \n",
        "\tprint(\"a is NOT present in given list\") \n",
        "\t# 24 is not in the sequence so it prints the statement\n",
        "else:\n",
        "  print('a is in list')\n",
        "  \n",
        "if (b in list): \n",
        "\tprint(\"b is present in given list\") \n",
        "\t# 20 is in the sequence so it prints the statement\n",
        "else:\n",
        "  print('b is not in list') \n"
      ],
      "metadata": {
        "colab": {
          "base_uri": "https://localhost:8080/"
        },
        "id": "wuHrEk49--Ju",
        "outputId": "8453e5c5-7e61-4b0b-dc12-e2e0ac91e4ad"
      },
      "execution_count": 41,
      "outputs": [
        {
          "output_type": "stream",
          "name": "stdout",
          "text": [
            "a is NOT present in given list\n",
            "b is present in given list\n"
          ]
        }
      ]
    }
  ]
}